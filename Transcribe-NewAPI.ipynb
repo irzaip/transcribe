{
 "cells": [
  {
   "cell_type": "code",
   "execution_count": null,
   "metadata": {},
   "outputs": [],
   "source": [
    "!pip install --upgrade google-cloud-speech"
   ]
  },
  {
   "cell_type": "code",
   "execution_count": 1,
   "metadata": {},
   "outputs": [],
   "source": [
    "import os\n",
    "os.environ[\"GOOGLE_APPLICATION_CREDENTIALS\"] = \"api-key.json\""
   ]
  },
  {
   "cell_type": "code",
   "execution_count": 13,
   "metadata": {},
   "outputs": [],
   "source": [
    "def transcribe_gcs(gcs_uri):\n",
    "    \"\"\"Asynchronously transcribes the audio file specified by the gcs_uri.\"\"\"\n",
    "    from google.cloud import speech\n",
    "    from google.cloud.speech import enums\n",
    "    from google.cloud.speech import types\n",
    "    client = speech.SpeechClient()\n",
    "\n",
    "    audio = types.RecognitionAudio(uri=gcs_uri)\n",
    "    config = types.RecognitionConfig(\n",
    "        encoding=enums.RecognitionConfig.AudioEncoding.LINEAR16,\n",
    "        sample_rate_hertz=44100,\n",
    "        language_code='id-ID')\n",
    "\n",
    "    operation = client.long_running_recognize(config, audio)\n",
    "\n",
    "    print('Waiting for operation to complete...')\n",
    "    response = operation.result(timeout=600)\n",
    "\n",
    "    # Each result is for a consecutive portion of the audio. Iterate through\n",
    "    # them to get the transcripts for the entire audio file.\n",
    "    for result in response.results:\n",
    "        # The first alternative is the most likely one for this portion.\n",
    "        print(u'Transcript: {}'.format(result.alternatives[0].transcript))\n",
    "        print('Confidence: {}'.format(result.alternatives[0].confidence))"
   ]
  },
  {
   "cell_type": "code",
   "execution_count": 14,
   "metadata": {},
   "outputs": [
    {
     "name": "stdout",
     "output_type": "stream",
     "text": [
      "Waiting for operation to complete...\n",
      "Transcript: Halo teman-teman semuanya Selamat datang di seri video tutorial pemrograman Python bahasa Indonesia dengan saya Andien Umam Ok di seri video tutorial kali ini kita akan belajar bersama Bagaimana kita bisa memprogram menggunakan bahasa pakistannya dari awal sampai tingkat lebih dari cukup misalnya nanti temen-temen ingin bermain di data science di Delta maenin computer Vision Processing bidang komputasi ataupun pemrograman lainnya dengan mengikuti video series ini saya yakin teman-teman akan lebih dari cukup untuk mengantarkan teman-teman dalam melakukan hal-hal yang saya sebutkan tadi udah tadi udah sih dari video dari sini kurang lebih adalah 3 jam lagi teman-teman semuanya yang merasa pendatang baru Newbie begginer dan belum ada pengalaman sama sekali dalam mengkoding di dapur kan apapun teman-teman jangan khawatir karena tidur dari sini saya Buat sedemikian rupa agar bisa diikuti oleh pemula ya kemudian bagi teman-teman yang sudah pernah belajar\n",
      "Confidence: 0.8312103748321533\n",
      "Transcript: pemrograman edly satu ya misalnya seperti si 11 + Japan metlife PHP dan lain sebagainya Saya yakin teman-teman akan dengan sangat mudah mengikuti series ini dan dengan sangat cepat ya mungkin dari total durasi 3 jam bagi teman-teman yang sudah pernah ada pengalaman dalam hal mengkoding teman-teman bisa kuasai pesan ini mungkin kurang dari 1 jam ya karena pada dasarnya wujudnya Mirip ya seperti itu for Loop function class dan sebagainya jadi teman teman hanya perlu untuk mengenal sintaksnya saja teman-teman bisa ikuti video ini dengan cepat dan teman-teman skip skip di bagian bagian yang penting bagi temen-temen saja Oke kita masuk ke topik pertama Kenapa harus pakai oke di sini saya sudah menulis beberapa Alasannya kenapa kita harus belajar paisan yang pertama perkembangannya sangat pesat pertama kita coba lihat grafik ini ini adalah data pertanyaan-pertanyaan yang masuk di take over flower kita bisa lihat disini grafik merah ini ya\n",
      "Confidence: 0.9290691614151001\n",
      "Transcript: ini untuk paytren ini perkembangannya sangat cepat jadi banyak sekali teman-teman yang mendiskusikan di stackoverflow Ok kemudian teman-teman bisa lihat bahasa lain di sini ini ada javascript Ok De Java kemudian ini ada sisa PHP dan sifat-sifat ada di sini yang kedua jadi Pak Tani free dan open source meski teman-teman gunakan ini untuk keperluan komersial sekalipun yang ke-3 menurut pengalaman saya bahasa Pakistan ini adalah sangat mudah nyaman dan sangat cepat dalam membuat sebuah kode ya karena kita ada paket yang sangat banyak sekali yang bisa kita gunakan di sana Ada fungsi-fungsi yang siap pakai Kita tinggal panggil saja fungsinya sebagai contoh di bidang statistik misalnya teman-teman ingin menghitung nilai maksimal minimal standar deviasi sudah ada fungsinya tinggal panggil saja bisa nyedot Min dan Max untuk menghitung nilai minimal dan maksimal kemudian jika temen-temen nanti bermain mesin learning temen-temen bisa menggunakan paket misalnya seperti sakit lagi bicara sudah ada\n",
      "Confidence: 0.9379715323448181\n",
      "Transcript: siap pakai tempat tinggal panggil saja jadi sangat mudah kemudian alasan selanjutnya alasan keempat tersedia lebih dari 125000 bait atau 5 baris yang bisa digunakan oleh teman-teman semuanya kemudian alasan kelima ini adalah bahasa yang paling banyak digunakan untuk keperluan mesin learning dan data saya jadi teman-teman semuanya yang nanti tertarik untuk belajar mesin learning dan diatasnya maka menguasai bahasa Pakistan ini adalah merupakan suatu hal yang wajib yang menurut saya karena kebanyakan bahasa yang digunakan adalah menggunakan bahasa pemrograman pernyataan ini kemudian alasan ke-6 di paytren ini ini tidak hanya digunakan untuk kalangan akademisi saja ya Jadi ini juga sudah digunakan oleh teman-teman yang ada di industri sebagai perbandingan Misalnya atlet-atlet ini sangat bagus temen-temen bisa gunakan untuk banyak hal yang indah tetapi Matlab ini cenderung hanya terbatas untuk keperluan riset dan di Akademi saja ya saya masih jarang sekali atau\n",
      "Confidence: 0.938934862613678\n",
      "Transcript: kan belum pernah mendengar penggunaan Matlab ini di bidang industri dan bidang produksi beberapa alasan kenapa kita harus belajar bahasa pakistannya kemudian kita lanjut ke apa saja yang akan kita bahas dalam video seri sini di sini saya sudah Tunjukkan ada 12 topik ya ada 12 topik pertama saya akan coba berikan Bagaimana kita bisa menginstal software paytren di komputer kita masing-masing bagi teman-teman yang sudah menginstal pancen teman-teman bisa skip video ini saja dan langsung ke video selanjutnya di video ini kita akan mencoba untuk membahas dari hal yang paling sederhana yang kita akan membahas Bagaimana kita bisa membuat input output dan kita akan mencoba operasi-operasi sederhana di dalam air kemudian di topi kedua kita akan mencoba untuk mengenal berbagai macam variabel yang ada di Pacitan dan bagaimana kita bisa menggunakannya seperti integer Float drink list dictionary Tupperware\n",
      "Confidence: 0.9312775731086731\n",
      "Transcript: dan lain sebagainya Ok dituju ketika kita akan Coba kenalkan Bagaimana kita bisa membuat conditional if Else ya ok kemudian di video keempat kita akan coba belajar bagaimana kita bisa membuat operasi perbandingan dan logic di mana Ini nanti akan dibutuhkan banyak di Ifa tadi kita kan disini perbandingan dan wujudnya kemudian di topi kelima kita akan mencoba belajar bagaimana kita bisa melakukan pengulangan baik menggunakan block maupun menggunakan flux kemudian di topi ke-6 kita akan mencoba untuk Bagaimana kita bisa membuat fungsi di paytren jadi ketika nanti temen-temen gue sebuah program yang sangat kompleks teman-teman bisa buat itu dalam fungsi-fungsi ya sehingga teman-teman bisa gunakan ulang seperti itu kemudian Dito di ke-7 kita akan mencoba untuk mengenalkan dan membuat kelas untuk object oriented programming selanjutnya di topi 8 kita akan mencoba memperkenalkan Bagaimana kita bisa menggunakan paket Nampi efek samping ini nanti fungsi\n",
      "Confidence: 0.9516356587409973\n",
      "Transcript: akan sangat banyak sekali terutama di bidang komputasi di bidang data mining di bidang mesin learning dan lain sebagainya di topik tentang nanti ini kita akan mencoba kenalkan Bagaimana kita bisa membaca sebuah data dari file ya ok kemudian Bagaimana kita bisa mendefinisikan matriks atau Oray kemudian kita bisa melihat statistik dari data seperti standard deviation variance dan lain sebagainya kemudian Bagaimana kita bisa memanipulasi data array seperti melakukan sorting kemudian menggabungkan matriks array kemudian mengubah ukuran atau bentuk dari suatu were dan juga proses-proses Untuk memanipulasi data lainnya kemudian di topi ke-9 kita akan Coba kenalkan Bagaimana kita bisa melakukan visualisasi data misalnya kita ingin mengupload sebuah data ke grafik atau kurva ya di sini nanti kita akan menggunakan Facebook yang bernama matplotlib kemudian di topi ke-10 kita akan Coba kenalkan Bagaimana kita bisa menggunakan data menggunakan Panda\n",
      "Confidence: 0.947388768196106\n",
      "Transcript: nanti akan sangat berguna ketika nanti temen-temen akan bermain data science Karena pada dasarnya dengan dataframe ini teman-teman nanti akan bisa menghandle data-data dalam format tabel misalnya seperti data data di Excel di csv dan data-data dalam format yang lain kemudian di Top 11 kita akan Coba kenalkan Bagaimana kita bisa melakukan dibagiin kode misalnya kode kita ada yang error atau output nya belum sesuai dengan output yang kita inginkan ya dan yang terakhir kita akan Coba kenalkan Bagaimana kita bisa mengatur menambahkan atau menghapus environment untuk keperluan pemrograman Vixion dan juga kita akan kenalkan Bagaimana kita bisa menambahkan menghapus mengupdate paket-paket yang diperlukan untuk kita melakukan pemrograman paisan Oke teman-teman semuanya saya kira ini cukup untuk mengantarkan seri tutorial video kita yaitu tutorial pemrograman Python bahasa Indonesia sampai ketemu di video-video selanjutnya\n",
      "Confidence: 0.9391457438468933\n"
     ]
    }
   ],
   "source": [
    "stt = transcribe_gcs('gs://transcribe-irza/tutorial1.wav')"
   ]
  },
  {
   "cell_type": "code",
   "execution_count": 15,
   "metadata": {},
   "outputs": [],
   "source": [
    "stt"
   ]
  },
  {
   "cell_type": "code",
   "execution_count": null,
   "metadata": {},
   "outputs": [],
   "source": []
  }
 ],
 "metadata": {
  "kernelspec": {
   "display_name": "Python 3",
   "language": "python",
   "name": "python3"
  },
  "language_info": {
   "codemirror_mode": {
    "name": "ipython",
    "version": 3
   },
   "file_extension": ".py",
   "mimetype": "text/x-python",
   "name": "python",
   "nbconvert_exporter": "python",
   "pygments_lexer": "ipython3",
   "version": "3.6.4"
  }
 },
 "nbformat": 4,
 "nbformat_minor": 2
}
