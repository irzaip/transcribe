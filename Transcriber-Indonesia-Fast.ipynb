{
 "cells": [
  {
   "cell_type": "code",
   "execution_count": 2,
   "metadata": {},
   "outputs": [
    {
     "name": "stdout",
     "output_type": "stream",
     "text": [
      "Requirement already satisfied: google-api-python-client==1.6.4 in c:\\anaconda3\\envs\\tensorflow\\lib\\site-packages (from -r requirements.txt (line 1))\n",
      "Requirement already satisfied: httplib2==0.10.3 in c:\\anaconda3\\envs\\tensorflow\\lib\\site-packages (from -r requirements.txt (line 2))\n",
      "Requirement already satisfied: oauth2client==4.1.2 in c:\\anaconda3\\envs\\tensorflow\\lib\\site-packages (from -r requirements.txt (line 3))\n",
      "Requirement already satisfied: pyasn1==0.4.2 in c:\\anaconda3\\envs\\tensorflow\\lib\\site-packages (from -r requirements.txt (line 4))\n",
      "Requirement already satisfied: pyasn1-modules==0.2.1 in c:\\anaconda3\\envs\\tensorflow\\lib\\site-packages (from -r requirements.txt (line 5))\n",
      "Requirement already satisfied: rsa==3.4.2 in c:\\anaconda3\\envs\\tensorflow\\lib\\site-packages (from -r requirements.txt (line 6))\n",
      "Requirement already satisfied: six==1.11.0 in c:\\anaconda3\\envs\\tensorflow\\lib\\site-packages (from -r requirements.txt (line 7))\n",
      "Requirement already satisfied: SpeechRecognition==3.8.1 in c:\\anaconda3\\envs\\tensorflow\\lib\\site-packages (from -r requirements.txt (line 8))\n",
      "Requirement already satisfied: tqdm==4.19.5 in c:\\anaconda3\\envs\\tensorflow\\lib\\site-packages (from -r requirements.txt (line 9))\n",
      "Requirement already satisfied: uritemplate==3.0.0 in c:\\anaconda3\\envs\\tensorflow\\lib\\site-packages (from -r requirements.txt (line 10))\n"
     ]
    },
    {
     "name": "stderr",
     "output_type": "stream",
     "text": [
      "You are using pip version 9.0.1, however version 19.2.3 is available.\n",
      "You should consider upgrading via the 'python -m pip install --upgrade pip' command.\n"
     ]
    }
   ],
   "source": [
    "!pip install -r requirements.txt"
   ]
  },
  {
   "cell_type": "code",
   "execution_count": 7,
   "metadata": {},
   "outputs": [
    {
     "name": "stdout",
     "output_type": "stream",
     "text": [
      "Collecting youtube-dl\n",
      "  Downloading https://files.pythonhosted.org/packages/42/9c/9e13d8c2cb43dc158ede19e5dade9037fa5ee321e70494a3960d62f9242b/youtube_dl-2019.9.12.1-py2.py3-none-any.whl (1.8MB)\n",
      "Installing collected packages: youtube-dl\n",
      "Successfully installed youtube-dl-2019.9.12.1\n"
     ]
    },
    {
     "name": "stderr",
     "output_type": "stream",
     "text": [
      "You are using pip version 9.0.1, however version 19.2.3 is available.\n",
      "You should consider upgrading via the 'python -m pip install --upgrade pip' command.\n"
     ]
    }
   ],
   "source": [
    "!pip install youtube-dl"
   ]
  },
  {
   "cell_type": "code",
   "execution_count": null,
   "metadata": {},
   "outputs": [],
   "source": [
    "filedl = 'https://www.youtube.com/watch?v=qxzV4w0RhKE'"
   ]
  },
  {
   "cell_type": "code",
   "execution_count": 34,
   "metadata": {},
   "outputs": [
    {
     "name": "stdout",
     "output_type": "stream",
     "text": [
      "success\n"
     ]
    }
   ],
   "source": [
    "import subprocess\n",
    "\n",
    "param = \"python -m youtube_dl --restrict-filenames --ignore-errors -x --audio-format mp3 -o output.mp3 \"\n",
    "if (subprocess.call(param+filedl) == 0):\n",
    "    print(\"success\")"
   ]
  },
  {
   "cell_type": "code",
   "execution_count": 35,
   "metadata": {},
   "outputs": [],
   "source": [
    "long_filename = 'output.mp3'"
   ]
  },
  {
   "cell_type": "markdown",
   "metadata": {},
   "source": [
    "### step 1 - download file dr source dalam bentuk mp3\n",
    "### step 2 - convert WAV dengan audacity\n",
    "### step 3 - hapus directory input."
   ]
  },
  {
   "cell_type": "code",
   "execution_count": 36,
   "metadata": {
    "scrolled": false
   },
   "outputs": [
    {
     "name": "stdout",
     "output_type": "stream",
     "text": [
      "E:\\data\\python\\3.6\\transcribe\\input\\*, Are you sure (Y/N)? Y \n"
     ]
    }
   ],
   "source": [
    "!echo Y | del .\\input\\*"
   ]
  },
  {
   "cell_type": "markdown",
   "metadata": {},
   "source": [
    "### step 4 - Potong menjadi 1 menit tiap chunk. - kalau return 0 berarti berhasil  -acodec pcm_u8 -ac 1 "
   ]
  },
  {
   "cell_type": "code",
   "execution_count": 37,
   "metadata": {
    "scrolled": true
   },
   "outputs": [
    {
     "data": {
      "text/plain": [
       "0"
      ]
     },
     "execution_count": 37,
     "metadata": {},
     "output_type": "execute_result"
    }
   ],
   "source": [
    "import subprocess\n",
    "convert = f\"ffmpeg.exe -i {long_filename} -f segment -segment_time 30 -c copy -acodec pcm_s16le -ar 44100 -ac 2 input/trans%09d.wav\"\n",
    "subprocess.call(convert)"
   ]
  },
  {
   "cell_type": "code",
   "execution_count": 38,
   "metadata": {},
   "outputs": [],
   "source": [
    "import os\n",
    "import speech_recognition as sr\n",
    "from tqdm import tqdm\n",
    "from multiprocessing.dummy import Pool\n",
    "import glob\n",
    "pool = Pool(8) # Number of concurrent threads"
   ]
  },
  {
   "cell_type": "code",
   "execution_count": 39,
   "metadata": {},
   "outputs": [],
   "source": [
    "with open(\"api-key.json\") as f:\n",
    "    GOOGLE_CLOUD_SPEECH_CREDENTIALS = f.read()"
   ]
  },
  {
   "cell_type": "markdown",
   "metadata": {},
   "source": [
    "### atur nama file atau kumpulan file"
   ]
  },
  {
   "cell_type": "code",
   "execution_count": 40,
   "metadata": {},
   "outputs": [],
   "source": [
    "files = sorted(glob.glob('./input/*.wav'))\n",
    "language='id-ID'"
   ]
  },
  {
   "cell_type": "code",
   "execution_count": 41,
   "metadata": {},
   "outputs": [
    {
     "data": {
      "text/plain": [
       "['./input\\\\trans000000000.wav',\n",
       " './input\\\\trans000000001.wav',\n",
       " './input\\\\trans000000002.wav',\n",
       " './input\\\\trans000000003.wav',\n",
       " './input\\\\trans000000004.wav',\n",
       " './input\\\\trans000000005.wav',\n",
       " './input\\\\trans000000006.wav',\n",
       " './input\\\\trans000000007.wav']"
      ]
     },
     "execution_count": 41,
     "metadata": {},
     "output_type": "execute_result"
    }
   ],
   "source": [
    "files"
   ]
  },
  {
   "cell_type": "code",
   "execution_count": 42,
   "metadata": {
    "scrolled": false
   },
   "outputs": [
    {
     "name": "stdout",
     "output_type": "stream",
     "text": [
      "./input\\trans000000000.wav started\n",
      "./input\\trans000000001.wav started\n",
      "./input\\trans000000002.wav started\n",
      "./input\\trans000000003.wav started\n",
      "./input\\trans000000004.wav started\n",
      "./input\\trans000000005.wav started\n",
      "\n",
      "\n",
      "\n",
      "./input\\trans000000007.wav started\n",
      "./input\\trans000000006.wav started\n",
      "\n",
      "\n",
      "\n",
      "\n",
      "\n",
      "./input\\trans000000007.wav done\n",
      "./input\\trans000000005.wav done\n",
      "./input\\trans000000000.wav done\n",
      "./input\\trans000000003.wav done\n",
      "./input\\trans000000006.wav done\n",
      "./input\\trans000000004.wav done\n",
      "./input\\trans000000002.wav done\n",
      "./input\\trans000000001.wav done\n",
      "00:00:00\n",
      " mau lanjut sekolah di mana Mas Fathur demikian suara ngebass dari sang Pakde kepada anak saya yang merupakan keponakannya dia kakak sepupu saya yang bertanya ini masih bisa naikin nilai TOEFL Pakde atur menjawab sekolah ke luar negeri ini ciri Jawa Malangan yang banyak menggunakan akhiran huruf a bukan seperti bahasa Jawa umumnya yang banyak menggunakan akhiran O dia pun lanjut bertanya apakah yang dijawab dengan lancar Ali Fatur mau ambil jurusan bisnis Pakde biar cepet dapet duit Lho kamu salah \n",
      "\n",
      "00:00:30\n",
      " tutur kata Pakde yang ceplas-ceplos ciri Jawa Timuran carane golek duit mas Fathur ini malam nya keluar sudah berintonasi meledak meledak dan mulai monolognya kalau mau cari duit atau kalau mau kaya modalnya bukan sekolah modalnya gigih bukan pinter sekolah itu untuk pintar untuk pengetahuan bukan untuk kayak kamu salah tour di cara main catur hanya cengengesan saya tahu faktur tidak terima Tapi saya tahu Fatur pura-pura mengerti apa \n",
      "\n",
      "00:01:00\n",
      " Tadinya ini sebenarnya ini bahasa tinggi bahasa sanepo bahasa kiasan kromo tatanan Jawa yang tertinggi itu budaya baru bahasa kromo adalah bahasa keseharian seorang Prabu kepada kamu loh bahasa kiasan banyak sindiran kamu tidak sakit tidak sarkas halus sekali mendidik dan mengajari walau dibungkus dengan meledak meledak intonasinya liukan kata-kata yang lagunya tetap itu adalah kiasan indah karena komunikasi seperti begini banyak hilang di generasi tambiski generasi milenial hilang jadi kehadiran sang Pakde ini saya manfaatkan \n",
      "\n",
      "00:01:30\n",
      " kembali kebiasaan kami dulu di Kampung di daerah Selatan Malang bicara dengan pinisepuh dalam remang lampu sentir kalau saya sudah hafal Ke mana arah bicaranya kakak sepupu saya ini namun anak muda sekarang kayaknya perlu kebiasaan budaya nusantara adalah budaya pitutur penuturan bukan budaya tulisan jadi bercengkrama jagongan ngobrol adalah kunci komunikasi kita tahu dalam dialog Pakde dengan keponakan tadi yang memiliki langsung kamu salah tour itu adalah kalimat langsung tak mono golek duit iku itu adalah kalimat langsung \n",
      "\n",
      "00:02:00\n",
      " Namun kata gigih itu adalah sanepo itu kunci di sini akan kita Jelaskan kekuatan kata-kata Indah erek termasuk kata sanepo tadi kemudian badannya bertanya ulang buat apa sekarang Kamu sekolah tour lagu dan Menya biar pintar Lah katanya mau kaya sekolah biar kaya masih tetap merayakan tadinya bertanya dari sisi lain yang bisa membuat seseorang tulis main atau pikiran langsung ke putar ya Pak aku pengen kayak juga nggak usah sekolah tuh kalo pengen kaya kunci kaya itu gigih Tok Itu saja cukup \n",
      "\n",
      "00:02:30\n",
      " kamu sekolah nanti cuman bikin kamu pintar bikin kamu sibuk dengan ilmu bikin kamu ribet sama keilmuan jadi pinter terus keminter Minggu malah bikin kamu keblinger ilmu itu bener tapi membawa sulit tour kewajiban manusia itu berilmu bukan pinter golek ilmu lah iku sing bener mendengar kalimat Pakde yang terakhir ini 9 kata kunci yang saya tunggu-tunggu pintar itu nilai kuantifikasi pintar itu pas hafal apa yang ditanya orang berilmu beda dengan orang pintar orang beri \n",
      "\n",
      "00:03:00\n",
      " tahu kapan menggunakan ilmunya bisa mempraktekan ilmunya orang pintar itu hanya pintar belum tentu ngerti atau bisa mengerjakan sesuatu memperoleh ilmu itu susah tour demikian sang padi melanjutkan memperoleh ilmu itu harus gigi fokusnya di ilmunya bukan di pinternya kalimat tersebut bagi yang dewasa pasti memahami ke arah mana sampah di bicara namun bagi keponakannya bagi anak saya 18 tahun ini apakah ngerti Biarkan saja time will tell waktu yang bicara bagi saya \n",
      "\n",
      "00:03:30\n",
      " menikmati komunikasi Minggu sore ini antara Pakde dan keponakannya tersebut adalah surga tersendiri \n",
      "\n",
      "\n"
     ]
    }
   ],
   "source": [
    "r = sr.Recognizer()\n",
    "\n",
    "def transcribe(data):\n",
    "    idx, file = data\n",
    "    name = file\n",
    "    print(name + \" started\\n\")\n",
    "    # Load audio file\n",
    "    with sr.AudioFile(name) as source:\n",
    "        audio = r.record(source)\n",
    "    # Transcribe audio file\n",
    "    try:\n",
    "        text = r.recognize_google_cloud(audio, credentials_json=GOOGLE_CLOUD_SPEECH_CREDENTIALS,language=language)\n",
    "    except:\n",
    "        return {\n",
    "            \"idx\": idx,\n",
    "            \"text\": \"\"\n",
    "        }\n",
    "    print(name + \" done\")\n",
    "    return {\n",
    "        \"idx\": idx,\n",
    "        \"text\": text\n",
    "    }\n",
    "\n",
    "all_text = pool.map(transcribe, enumerate(files))\n",
    "pool.close()\n",
    "pool.join()\n",
    "\n",
    "transcript = \"\"\n",
    "for t in sorted(all_text, key=lambda x: x['idx']):\n",
    "    total_seconds = t['idx'] * 30\n",
    "    # Cool shortcut from:\n",
    "    # https://stackoverflow.com/questions/775049/python-time-seconds-to-hms\n",
    "    # to get hours, minutes and seconds\n",
    "    m, s = divmod(total_seconds, 60)\n",
    "    h, m = divmod(m, 60)\n",
    "\n",
    "    # Format time as h:m:s - 30 seconds of text\n",
    "    transcript = transcript + \"{:0>2d}:{:0>2d}:{:0>2d}\\n {}\\n\\n\".format(h, m, s, t['text'])\n",
    "\n",
    "print(transcript)\n",
    "\n",
    "with open(long_filename+\".txt\", \"w\") as f:\n",
    "    f.write(transcript)"
   ]
  },
  {
   "cell_type": "code",
   "execution_count": null,
   "metadata": {},
   "outputs": [],
   "source": []
  },
  {
   "cell_type": "code",
   "execution_count": null,
   "metadata": {},
   "outputs": [],
   "source": []
  }
 ],
 "metadata": {
  "kernelspec": {
   "display_name": "Python 3",
   "language": "python",
   "name": "python3"
  },
  "language_info": {
   "codemirror_mode": {
    "name": "ipython",
    "version": 3
   },
   "file_extension": ".py",
   "mimetype": "text/x-python",
   "name": "python",
   "nbconvert_exporter": "python",
   "pygments_lexer": "ipython3",
   "version": "3.6.4"
  }
 },
 "nbformat": 4,
 "nbformat_minor": 2
}
