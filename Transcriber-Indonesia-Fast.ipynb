{
 "cells": [
  {
   "cell_type": "code",
   "execution_count": null,
   "metadata": {},
   "outputs": [],
   "source": [
    "!pip install -r requirements.txt"
   ]
  },
  {
   "cell_type": "code",
   "execution_count": null,
   "metadata": {},
   "outputs": [],
   "source": [
    "!pip install youtube-dl"
   ]
  },
  {
   "cell_type": "markdown",
   "metadata": {},
   "source": [
    "# PILIH YOUTUBE URL"
   ]
  },
  {
   "cell_type": "code",
   "execution_count": 90,
   "metadata": {},
   "outputs": [],
   "source": [
    "url_yt = 'https://www.youtube.com/watch?time_continue=10&v=IfHadadE-TtMJJw'"
   ]
  },
  {
   "cell_type": "code",
   "execution_count": 92,
   "metadata": {},
   "outputs": [
    {
     "name": "stdout",
     "output_type": "stream",
     "text": [
      "Download youtube ke mp3 - GAGAL\n"
     ]
    }
   ],
   "source": [
    "import subprocess\n",
    "param = \"python -m youtube_dl --restrict-filenames --ignore-errors -x --audio-format mp3 -o output.mp3 \"\n",
    "\n",
    "if (subprocess.call(param+url_yt) == 0):\n",
    "    print(\"Download youtube ke mp3 - SUCCESS\")\n",
    "else:\n",
    "    print(\"Download youtube ke mp3 - GAGAL\")"
   ]
  },
  {
   "cell_type": "markdown",
   "metadata": {},
   "source": [
    "## KONVERSI KE WAV\n",
    "Harus ada FFMPEG di PATH\n",
    "- step 1 - download file dr source dalam bentuk mp3\n",
    "- step 2 - convert WAV dengan audacity\n",
    "- step 3 - hapus directory input."
   ]
  },
  {
   "cell_type": "code",
   "execution_count": 96,
   "metadata": {},
   "outputs": [],
   "source": [
    "input_file = 'output.mp3'"
   ]
  },
  {
   "cell_type": "code",
   "execution_count": 97,
   "metadata": {
    "scrolled": false
   },
   "outputs": [
    {
     "name": "stdout",
     "output_type": "stream",
     "text": [
      "E:\\PYTHON\\transcribe\\input\\*, Are you sure (Y/N)? Y \n"
     ]
    }
   ],
   "source": [
    "!echo Y | del .\\input\\*"
   ]
  },
  {
   "cell_type": "markdown",
   "metadata": {},
   "source": [
    "### step 4 - Potong menjadi 1 menit tiap chunk. - kalau return 0 berarti berhasil  -acodec pcm_u8 -ac 1 "
   ]
  },
  {
   "cell_type": "code",
   "execution_count": 98,
   "metadata": {
    "scrolled": true
   },
   "outputs": [
    {
     "name": "stdout",
     "output_type": "stream",
     "text": [
      "KONVERSI KE WAV - SUCCESS\n"
     ]
    }
   ],
   "source": [
    "import subprocess\n",
    "convert = f\"ffmpeg.exe -i {input_file} -f segment -segment_time 30 -c copy -acodec pcm_s16le -ar 44100 -ac 1 input/trans%09d.wav\"\n",
    "\n",
    "if (subprocess.call(convert) == 0):\n",
    "    print(\"KONVERSI KE WAV - SUCCESS\")\n",
    "else:\n",
    "    print(\"KONVERSI KE WAV - ERROR\")"
   ]
  },
  {
   "cell_type": "code",
   "execution_count": 102,
   "metadata": {},
   "outputs": [],
   "source": [
    "import os\n",
    "import speech_recognition as sr\n",
    "from tqdm import tqdm\n",
    "from multiprocessing.dummy import Pool\n",
    "import glob\n",
    "pool = Pool(8) # Number of concurrent threads"
   ]
  },
  {
   "cell_type": "code",
   "execution_count": 103,
   "metadata": {},
   "outputs": [],
   "source": [
    "import os\n",
    "os.environ[\"GOOGLE_APPLICATION_CREDENTIALS\"] = \"api-key.json\""
   ]
  },
  {
   "cell_type": "markdown",
   "metadata": {},
   "source": [
    "## 1 . CARA PERTAMA - MultiThread multiple files"
   ]
  },
  {
   "cell_type": "code",
   "execution_count": 104,
   "metadata": {},
   "outputs": [],
   "source": [
    "files = sorted(glob.glob('./input/*.wav'))\n",
    "language='id-ID'"
   ]
  },
  {
   "cell_type": "code",
   "execution_count": 105,
   "metadata": {},
   "outputs": [
    {
     "data": {
      "text/plain": [
       "['./input\\\\trans000000000.wav',\n",
       " './input\\\\trans000000001.wav',\n",
       " './input\\\\trans000000002.wav',\n",
       " './input\\\\trans000000003.wav',\n",
       " './input\\\\trans000000004.wav',\n",
       " './input\\\\trans000000005.wav',\n",
       " './input\\\\trans000000006.wav',\n",
       " './input\\\\trans000000007.wav',\n",
       " './input\\\\trans000000008.wav',\n",
       " './input\\\\trans000000009.wav',\n",
       " './input\\\\trans000000010.wav']"
      ]
     },
     "execution_count": 105,
     "metadata": {},
     "output_type": "execute_result"
    }
   ],
   "source": [
    "files"
   ]
  },
  {
   "cell_type": "code",
   "execution_count": null,
   "metadata": {
    "scrolled": false
   },
   "outputs": [],
   "source": [
    "r = sr.Recognizer()\n",
    "\n",
    "def transcribe(data):\n",
    "    idx, file = data\n",
    "    name = file\n",
    "    print(name + \" started\\n\")\n",
    "    # Load audio file\n",
    "    with sr.AudioFile(name) as source:\n",
    "        audio = r.record(source)\n",
    "    # Transcribe audio file\n",
    "    try:\n",
    "        text = r.recognize_google_cloud(audio, credentials_json=GOOGLE_CLOUD_SPEECH_CREDENTIALS,language=language)\n",
    "    except:\n",
    "        return {\n",
    "            \"idx\": idx,\n",
    "            \"text\": \"\"\n",
    "        }\n",
    "    print(name + \" done\")\n",
    "    return {\n",
    "        \"idx\": idx,\n",
    "        \"text\": text\n",
    "    }\n",
    "\n",
    "all_text = pool.map(transcribe, enumerate(files))\n",
    "pool.close()\n",
    "pool.join()\n",
    "\n",
    "transcript = \"\"\n",
    "for t in sorted(all_text, key=lambda x: x['idx']):\n",
    "    total_seconds = t['idx'] * 30\n",
    "    # Cool shortcut from:\n",
    "    # https://stackoverflow.com/questions/775049/python-time-seconds-to-hms\n",
    "    # to get hours, minutes and seconds\n",
    "    m, s = divmod(total_seconds, 60)\n",
    "    h, m = divmod(m, 60)\n",
    "\n",
    "    # Format time as h:m:s - 30 seconds of text\n",
    "    transcript = transcript + \"{:0>2d}:{:0>2d}:{:0>2d}\\n {}\\n\\n\".format(h, m, s, t['text'])\n",
    "\n",
    "print(transcript)\n",
    "\n",
    "with open(long_filename+\".txt\", \"w\") as f:\n",
    "    f.write(transcript)"
   ]
  },
  {
   "cell_type": "markdown",
   "metadata": {},
   "source": [
    "## 2. CARA KE DUA - Single file WAV Long Recognizer"
   ]
  },
  {
   "cell_type": "code",
   "execution_count": 108,
   "metadata": {},
   "outputs": [],
   "source": [
    "filename = './input/trans000000000.wav'"
   ]
  },
  {
   "cell_type": "code",
   "execution_count": 109,
   "metadata": {},
   "outputs": [
    {
     "name": "stdout",
     "output_type": "stream",
     "text": [
      "Waiting for operation to complete...\n",
      "Transcript: hari ini kami sudah melakukan pemeriksaan spesimen sebanyak 11361\n",
      "Transcript:  singkat total keseluruhan adalah rp311.000 6 spesimen\n",
      "Transcript:  dari pemeriksaan ini kita dapatkan kasus konfirmasi positif naik 557 sehingga menjadi 25773\n"
     ]
    }
   ],
   "source": [
    "from google.cloud import speech_v1\n",
    "from google.cloud.speech_v1 import enums\n",
    "import io\n",
    "\n",
    "\n",
    "def sample_long_running_recognize(local_file_path):\n",
    "    \"\"\"\n",
    "    Transcribe a long audio file using asynchronous speech recognition\n",
    "\n",
    "    Args:\n",
    "      local_file_path Path to local audio file, e.g. /path/audio.wav\n",
    "    \"\"\"\n",
    "\n",
    "    client = speech_v1.SpeechClient()\n",
    "\n",
    "    # local_file_path = './input/trans000000000.wav'\n",
    "\n",
    "    # The language of the supplied audio\n",
    "    language_code = \"id-ID\"\n",
    "\n",
    "    # Sample rate in Hertz of the audio data sent\n",
    "    sample_rate_hertz = 44100\n",
    "\n",
    "    # Encoding of audio data sent. This sample sets this explicitly.\n",
    "    # This field is optional for FLAC and WAV audio formats.\n",
    "    encoding = enums.RecognitionConfig.AudioEncoding.LINEAR16\n",
    "    config = {\n",
    "        \"language_code\": language_code,\n",
    "        \"sample_rate_hertz\": sample_rate_hertz,\n",
    "        \"encoding\": encoding,\n",
    "    }\n",
    "    with io.open(local_file_path, \"rb\") as f:\n",
    "        content = f.read()\n",
    "    audio = {\"content\": content}\n",
    "\n",
    "    operation = client.long_running_recognize(config, audio)\n",
    "\n",
    "    print(u\"Waiting for operation to complete...\")\n",
    "    response = operation.result()\n",
    "\n",
    "    for result in response.results:\n",
    "        # First alternative is the most probable result\n",
    "        alternative = result.alternatives[0]\n",
    "        print(u\"Transcript: {}\".format(alternative.transcript))\n",
    "        \n",
    "\n",
    "sample_long_running_recognize(filename)"
   ]
  },
  {
   "cell_type": "code",
   "execution_count": null,
   "metadata": {},
   "outputs": [],
   "source": []
  },
  {
   "cell_type": "code",
   "execution_count": null,
   "metadata": {},
   "outputs": [],
   "source": []
  }
 ],
 "metadata": {
  "kernelspec": {
   "display_name": "Python 3",
   "language": "python",
   "name": "python3"
  },
  "language_info": {
   "codemirror_mode": {
    "name": "ipython",
    "version": 3
   },
   "file_extension": ".py",
   "mimetype": "text/x-python",
   "name": "python",
   "nbconvert_exporter": "python",
   "pygments_lexer": "ipython3",
   "version": "3.7.4"
  }
 },
 "nbformat": 4,
 "nbformat_minor": 2
}
